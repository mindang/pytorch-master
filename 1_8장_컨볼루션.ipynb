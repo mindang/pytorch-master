{
  "nbformat": 4,
  "nbformat_minor": 0,
  "metadata": {
    "colab": {
      "provenance": [],
      "authorship_tag": "ABX9TyMJAgeaWh7yEXbsP+MSo7zU",
      "include_colab_link": true
    },
    "kernelspec": {
      "name": "python3",
      "display_name": "Python 3"
    },
    "language_info": {
      "name": "python"
    },
    "accelerator": "GPU",
    "gpuClass": "standard"
  },
  "cells": [
    {
      "cell_type": "markdown",
      "metadata": {
        "id": "view-in-github",
        "colab_type": "text"
      },
      "source": [
        "<a href=\"https://colab.research.google.com/github/mindang/pytorch-master/blob/main/1_8%EC%9E%A5_%EC%BB%A8%EB%B3%BC%EB%A3%A8%EC%85%98.ipynb\" target=\"_parent\"><img src=\"https://colab.research.google.com/assets/colab-badge.svg\" alt=\"Open In Colab\"/></a>"
      ]
    },
    {
      "cell_type": "code",
      "source": [
        "#!는 한줄씩 실행되도록 !가 없으면 오류 발생\n",
        "!pip3 install torch\n",
        "!pip3 install torchvision"
      ],
      "metadata": {
        "id": "p-0NnVqV5IkE"
      },
      "execution_count": null,
      "outputs": []
    },
    {
      "cell_type": "markdown",
      "source": [],
      "metadata": {
        "id": "NbQvkZHvXK4G"
      }
    },
    {
      "cell_type": "code",
      "source": [
        "#%matplotlib inline\n",
        "from matplotlib import pyplot as plt\n",
        "import numpy as np\n",
        "import collections\n",
        "\n",
        "import torch\n",
        "import torch.nn as nn\n",
        "import torch.nn.functional as F\n",
        "import torch.optim as optim\n",
        "\n",
        "torch.set_printoptions(edgeitems=2)\n",
        "torch.manual_seed(123)"
      ],
      "metadata": {
        "id": "Nj9o_InYXOiL",
        "colab": {
          "base_uri": "https://localhost:8080/"
        },
        "outputId": "e1af1cd9-71eb-4fdd-8f76-1397f53b3971"
      },
      "execution_count": 15,
      "outputs": [
        {
          "output_type": "execute_result",
          "data": {
            "text/plain": [
              "<torch._C.Generator at 0x7f41f05cc090>"
            ]
          },
          "metadata": {},
          "execution_count": 15
        }
      ]
    },
    {
      "cell_type": "markdown",
      "source": [
        "#데이터셋 불러오기"
      ],
      "metadata": {
        "id": "6o39uBaI6w3v"
      }
    },
    {
      "cell_type": "code",
      "source": [
        "class_names = ['airplane','automobile','bird','cat','deer',\n",
        "               'dog','frog','horse','ship','truck']\n",
        "\n",
        "from torchvision import datasets, transforms\n",
        "data_path = '../data-unversioned/p1ch6/'\n",
        "cifar10 = datasets.CIFAR10(\n",
        "    data_path, train=True, download=True,\n",
        "    transform=transforms.Compose([\n",
        "        transforms.ToTensor(),\n",
        "        transforms.Normalize((0.4915, 0.4823, 0.4468),\n",
        "                             (0.2470, 0.2435, 0.2616))\n",
        "    ]))\n",
        "cifar10_val = datasets.CIFAR10(\n",
        "    data_path, train=False, download=True,\n",
        "    transform=transforms.Compose([\n",
        "        transforms.ToTensor(),\n",
        "        transforms.Normalize((0.4915, 0.4823, 0.4468),\n",
        "                             (0.2470, 0.2435, 0.2616))\n",
        "    ]))"
      ],
      "metadata": {
        "colab": {
          "base_uri": "https://localhost:8080/"
        },
        "id": "RcNJc4yKikDb",
        "outputId": "1669c8b6-b5eb-4925-ef31-fc66c247b04d"
      },
      "execution_count": 16,
      "outputs": [
        {
          "output_type": "stream",
          "name": "stdout",
          "text": [
            "Files already downloaded and verified\n",
            "Files already downloaded and verified\n"
          ]
        }
      ]
    },
    {
      "cell_type": "code",
      "source": [
        "label_map = {0: 0, 2: 1}\n",
        "class_names = ['airplane', 'bird']\n",
        "cifar2 = [(img, label_map[label])\n",
        "          for img, label in cifar10\n",
        "          if label in [0, 2]]\n",
        "cifar2_val = [(img, label_map[label])\n",
        "              for img, label in cifar10_val\n",
        "              if label in [0, 2]]"
      ],
      "metadata": {
        "id": "Z7ngULF4AGeL"
      },
      "execution_count": 17,
      "outputs": []
    },
    {
      "cell_type": "markdown",
      "source": [
        "#컨볼루션 테스트"
      ],
      "metadata": {
        "id": "qg5LZrYP60Pq"
      }
    },
    {
      "cell_type": "code",
      "source": [
        "img , _ = cifar2[99]\n",
        "\n",
        "conv = nn.Conv2d(3,16,kernel_size=3)\n",
        "output = conv(img.unsqueeze(0))\n",
        "img.unsqueeze(0).shape , output.shape"
      ],
      "metadata": {
        "colab": {
          "base_uri": "https://localhost:8080/"
        },
        "id": "P9GPmZTK4kuW",
        "outputId": "5525e60c-dc9f-4108-f6f3-b479305722d0"
      },
      "execution_count": 18,
      "outputs": [
        {
          "output_type": "execute_result",
          "data": {
            "text/plain": [
              "(torch.Size([1, 3, 32, 32]), torch.Size([1, 16, 30, 30]))"
            ]
          },
          "metadata": {},
          "execution_count": 18
        }
      ]
    },
    {
      "cell_type": "code",
      "source": [
        "plt.imshow(img.mean(0), cmap='gray')\n",
        "plt.title(\"input image\")\n",
        "plt.show()"
      ],
      "metadata": {
        "colab": {
          "base_uri": "https://localhost:8080/",
          "height": 281
        },
        "id": "DV-b2CC34krh",
        "outputId": "b6bc9f26-8556-4d27-e012-51f8126e7cda"
      },
      "execution_count": 19,
      "outputs": [
        {
          "output_type": "display_data",
          "data": {
            "text/plain": [
              "<Figure size 432x288 with 1 Axes>"
            ],
            "image/png": "[encoded data removed]"
          },
          "metadata": {
            "needs_background": "light"
          }
        }
      ]
    },
    {
      "cell_type": "code",
      "source": [
        "#[0,x] 현재 output이미지는 16개의 차원으로 이루어져 있다 x로 원하는 차원의 이미지를 선택 가능\n",
        "plt.imshow(output[0,0].detach(), cmap='gray')\n",
        "plt.title(\"output image\")\n",
        "plt.show()"
      ],
      "metadata": {
        "colab": {
          "base_uri": "https://localhost:8080/",
          "height": 281
        },
        "id": "0BAT7WIQ4kon",
        "outputId": "01c23d93-29f8-4146-a4a7-a3c8232b857f"
      },
      "execution_count": 20,
      "outputs": [
        {
          "output_type": "display_data",
          "data": {
            "text/plain": [
              "<Figure size 432x288 with 1 Axes>"
            ],
            "image/png": "[encoded data removed]"
          },
          "metadata": {
            "needs_background": "light"
          }
        }
      ]
    },
    {
      "cell_type": "code",
      "source": [
        "#패딩 사용\n",
        "img , _ = cifar2[99]\n",
        "\n",
        "conv = nn.Conv2d(3,16,kernel_size=3,padding = 1)\n",
        "output = conv(img.unsqueeze(0))\n",
        "img.unsqueeze(0).shape , output.shape"
      ],
      "metadata": {
        "colab": {
          "base_uri": "https://localhost:8080/"
        },
        "id": "kgA2Ldfp6P9b",
        "outputId": "0331a973-35b7-4c4d-fa09-3fb442270134"
      },
      "execution_count": 21,
      "outputs": [
        {
          "output_type": "execute_result",
          "data": {
            "text/plain": [
              "(torch.Size([1, 3, 32, 32]), torch.Size([1, 16, 32, 32]))"
            ]
          },
          "metadata": {},
          "execution_count": 21
        }
      ]
    },
    {
      "cell_type": "code",
      "source": [
        "list(conv.parameters())"
      ],
      "metadata": {
        "id": "s8shDzgk-bpN",
        "colab": {
          "base_uri": "https://localhost:8080/"
        },
        "outputId": "e3a6c9eb-e94f-4e42-bc93-189b65316198"
      },
      "execution_count": 22,
      "outputs": [
        {
          "output_type": "execute_result",
          "data": {
            "text/plain": [
              "[Parameter containing:\n",
              " tensor([[[[-0.1502,  0.0521, -0.0493],\n",
              "           [-0.1704,  0.0751,  0.0680],\n",
              "           [ 0.0259,  0.1258, -0.0773]],\n",
              " \n",
              "          [[ 0.1757, -0.1467,  0.1735],\n",
              "           [ 0.1430, -0.1712, -0.0171],\n",
              "           [-0.1035,  0.1894, -0.0080]],\n",
              " \n",
              "          [[ 0.1134,  0.1664, -0.1484],\n",
              "           [ 0.1170, -0.1674, -0.0520],\n",
              "           [-0.0776, -0.1800, -0.1813]]],\n",
              " \n",
              " \n",
              "         [[[-0.1855, -0.1489, -0.1075],\n",
              "           [-0.0634,  0.1077, -0.0309],\n",
              "           [-0.1905, -0.1398,  0.1381]],\n",
              " \n",
              "          [[-0.1878, -0.0947, -0.1742],\n",
              "           [ 0.1035,  0.1315,  0.0168],\n",
              "           [-0.0967, -0.0467,  0.0112]],\n",
              " \n",
              "          [[ 0.0807,  0.0033, -0.0897],\n",
              "           [ 0.0093,  0.0059,  0.0018],\n",
              "           [ 0.0837, -0.0725,  0.0121]]],\n",
              " \n",
              " \n",
              "         [[[ 0.0008,  0.0812, -0.1178],\n",
              "           [-0.1505, -0.1566,  0.0809],\n",
              "           [ 0.1531,  0.1909,  0.0687]],\n",
              " \n",
              "          [[-0.0392,  0.0354, -0.1903],\n",
              "           [ 0.0222, -0.0635, -0.0146],\n",
              "           [ 0.1105, -0.0662, -0.1458]],\n",
              " \n",
              "          [[ 0.0116, -0.0536, -0.0897],\n",
              "           [-0.0588, -0.1091,  0.1689],\n",
              "           [ 0.0132, -0.1021,  0.1227]]],\n",
              " \n",
              " \n",
              "         [[[ 0.0298,  0.1105,  0.1484],\n",
              "           [ 0.1902, -0.0499,  0.0057],\n",
              "           [-0.1115,  0.1756,  0.0613]],\n",
              " \n",
              "          [[-0.0319,  0.0482,  0.1910],\n",
              "           [ 0.0784,  0.0935,  0.1777],\n",
              "           [ 0.0082,  0.0009,  0.0478]],\n",
              " \n",
              "          [[-0.1779,  0.0673, -0.0014],\n",
              "           [-0.0092,  0.0111,  0.1705],\n",
              "           [ 0.0552, -0.1743,  0.1783]]],\n",
              " \n",
              " \n",
              "         [[[ 0.1174,  0.0971,  0.0794],\n",
              "           [ 0.0188, -0.1063,  0.1234],\n",
              "           [-0.1438, -0.1164,  0.0005]],\n",
              " \n",
              "          [[-0.1493,  0.1746,  0.1912],\n",
              "           [ 0.0959,  0.1175, -0.1864],\n",
              "           [ 0.1661,  0.0338, -0.1216]],\n",
              " \n",
              "          [[-0.1344,  0.0464,  0.1160],\n",
              "           [-0.0516, -0.0468, -0.0372],\n",
              "           [-0.1801,  0.1385, -0.0166]]],\n",
              " \n",
              " \n",
              "         [[[-0.1766, -0.1443,  0.0604],\n",
              "           [-0.1849,  0.1355, -0.1589],\n",
              "           [-0.0066,  0.0567, -0.0907]],\n",
              " \n",
              "          [[-0.1250, -0.0204,  0.0347],\n",
              "           [-0.0342,  0.0863,  0.1008],\n",
              "           [ 0.0772,  0.1778, -0.1168]],\n",
              " \n",
              "          [[-0.1542,  0.0474,  0.0349],\n",
              "           [ 0.1851,  0.1866,  0.0826],\n",
              "           [ 0.1140,  0.0876, -0.0144]]],\n",
              " \n",
              " \n",
              "         [[[-0.1802, -0.0762, -0.1634],\n",
              "           [ 0.1367, -0.1040, -0.1517],\n",
              "           [-0.0252,  0.1309,  0.0841]],\n",
              " \n",
              "          [[ 0.0704, -0.0117, -0.1759],\n",
              "           [-0.1141, -0.1628, -0.0574],\n",
              "           [ 0.1327, -0.1276, -0.0495]],\n",
              " \n",
              "          [[ 0.1889,  0.1322,  0.0700],\n",
              "           [ 0.1223, -0.0391, -0.1033],\n",
              "           [ 0.0972,  0.0519, -0.0597]]],\n",
              " \n",
              " \n",
              "         [[[ 0.1485, -0.1371, -0.0041],\n",
              "           [ 0.1556,  0.0619, -0.1510],\n",
              "           [ 0.0313, -0.0275,  0.0795]],\n",
              " \n",
              "          [[ 0.1084, -0.1362, -0.0634],\n",
              "           [ 0.1599, -0.1403, -0.0436],\n",
              "           [-0.0641, -0.0471, -0.0265]],\n",
              " \n",
              "          [[ 0.1105,  0.1203, -0.0690],\n",
              "           [ 0.0224, -0.1785, -0.0727],\n",
              "           [-0.0180, -0.0070,  0.0351]]],\n",
              " \n",
              " \n",
              "         [[[ 0.0106, -0.0572,  0.1386],\n",
              "           [-0.0630,  0.1537,  0.1136],\n",
              "           [-0.0043, -0.0710,  0.1185]],\n",
              " \n",
              "          [[ 0.0021, -0.1047,  0.1042],\n",
              "           [ 0.0148,  0.1847, -0.1893],\n",
              "           [ 0.0469, -0.1759, -0.0857]],\n",
              " \n",
              "          [[-0.0189,  0.1564, -0.0800],\n",
              "           [-0.1118, -0.0126, -0.0235],\n",
              "           [-0.1526,  0.0055,  0.1022]]],\n",
              " \n",
              " \n",
              "         [[[-0.0828, -0.1528, -0.1362],\n",
              "           [ 0.0914, -0.0117,  0.1396],\n",
              "           [-0.0174,  0.0038,  0.1599]],\n",
              " \n",
              "          [[ 0.0629, -0.1362,  0.0356],\n",
              "           [-0.0055, -0.1266,  0.1656],\n",
              "           [ 0.0879, -0.0812, -0.1717]],\n",
              " \n",
              "          [[ 0.0815, -0.1656,  0.0389],\n",
              "           [-0.1203,  0.0322,  0.0384],\n",
              "           [ 0.0940, -0.0575, -0.0025]]],\n",
              " \n",
              " \n",
              "         [[[-0.1032,  0.0157,  0.0115],\n",
              "           [ 0.1677,  0.1855, -0.0342],\n",
              "           [-0.0816, -0.0250, -0.1273]],\n",
              " \n",
              "          [[-0.0883, -0.1255, -0.1246],\n",
              "           [ 0.1504,  0.0520, -0.0797],\n",
              "           [-0.1897,  0.0840, -0.1192]],\n",
              " \n",
              "          [[-0.1905, -0.1879,  0.0616],\n",
              "           [ 0.0398,  0.0022, -0.1847],\n",
              "           [ 0.0626, -0.1640,  0.0261]]],\n",
              " \n",
              " \n",
              "         [[[ 0.0218, -0.1329, -0.0054],\n",
              "           [-0.1505,  0.1602, -0.0759],\n",
              "           [ 0.0847, -0.1667,  0.0608]],\n",
              " \n",
              "          [[-0.1835, -0.0229,  0.0463],\n",
              "           [-0.0135,  0.1133,  0.1521],\n",
              "           [-0.1384,  0.1379, -0.1361]],\n",
              " \n",
              "          [[-0.1245, -0.0382,  0.1748],\n",
              "           [ 0.1373, -0.0152, -0.1063],\n",
              "           [-0.0752, -0.0763,  0.1067]]],\n",
              " \n",
              " \n",
              "         [[[-0.0014, -0.0444, -0.1560],\n",
              "           [ 0.0158,  0.1189,  0.1215],\n",
              "           [ 0.0166,  0.1769, -0.0476]],\n",
              " \n",
              "          [[ 0.1495,  0.1076,  0.1700],\n",
              "           [ 0.0991, -0.1732,  0.0942],\n",
              "           [-0.1390, -0.1289, -0.1351]],\n",
              " \n",
              "          [[-0.0891, -0.1729,  0.1644],\n",
              "           [-0.0811,  0.1259,  0.1725],\n",
              "           [ 0.1220,  0.1431,  0.0049]]],\n",
              " \n",
              " \n",
              "         [[[-0.1891,  0.1175, -0.1621],\n",
              "           [ 0.0498, -0.0803,  0.1233],\n",
              "           [ 0.1284, -0.0100, -0.0670]],\n",
              " \n",
              "          [[ 0.1489, -0.0606, -0.1482],\n",
              "           [-0.1244, -0.1842,  0.1424],\n",
              "           [ 0.1446, -0.0490,  0.0849]],\n",
              " \n",
              "          [[ 0.1096, -0.0775,  0.0327],\n",
              "           [-0.0328, -0.0926, -0.1213],\n",
              "           [-0.0947, -0.0144, -0.0231]]],\n",
              " \n",
              " \n",
              "         [[[-0.1459, -0.1749, -0.0262],\n",
              "           [ 0.0747,  0.0639, -0.1348],\n",
              "           [ 0.1038, -0.1331, -0.0935]],\n",
              " \n",
              "          [[ 0.1570,  0.0482,  0.0703],\n",
              "           [-0.1853, -0.1674, -0.0359],\n",
              "           [ 0.1774, -0.1898,  0.1063]],\n",
              " \n",
              "          [[-0.0907, -0.1375,  0.1491],\n",
              "           [-0.1462,  0.0698, -0.0490],\n",
              "           [ 0.1375, -0.1825,  0.1008]]],\n",
              " \n",
              " \n",
              "         [[[ 0.1192,  0.0450,  0.1681],\n",
              "           [ 0.1602,  0.1057,  0.1336],\n",
              "           [ 0.1642,  0.1467,  0.0948]],\n",
              " \n",
              "          [[-0.1312,  0.1041, -0.0061],\n",
              "           [ 0.0795, -0.0004,  0.1069],\n",
              "           [-0.1726, -0.1259, -0.0651]],\n",
              " \n",
              "          [[ 0.1646, -0.1241, -0.0120],\n",
              "           [-0.0626, -0.1823, -0.1719],\n",
              "           [-0.1577, -0.1638, -0.1551]]]], requires_grad=True),\n",
              " Parameter containing:\n",
              " tensor([-0.0306,  0.1776, -0.1040, -0.0677, -0.0814,  0.0427,  0.1163, -0.0881,\n",
              "         -0.0895,  0.0630, -0.1798,  0.1141, -0.0743,  0.0866,  0.1489,  0.0429],\n",
              "        requires_grad=True)]"
            ]
          },
          "metadata": {},
          "execution_count": 22
        }
      ]
    },
    {
      "cell_type": "code",
      "source": [
        "plt.imshow(output[0,0].detach(), cmap='gray')\n",
        "plt.title(\"output image\")\n",
        "plt.show()"
      ],
      "metadata": {
        "colab": {
          "base_uri": "https://localhost:8080/",
          "height": 281
        },
        "id": "IJApUtIb7JNq",
        "outputId": "b40f328c-8213-4f2f-df27-138b01462322"
      },
      "execution_count": 23,
      "outputs": [
        {
          "output_type": "display_data",
          "data": {
            "text/plain": [
              "<Figure size 432x288 with 1 Axes>"
            ],
            "image/png": "[encoded data removed]"
          },
          "metadata": {
            "needs_background": "light"
          }
        }
      ]
    },
    {
      "cell_type": "markdown",
      "source": [
        "#커널에 따른 출력의 변화\n"
      ],
      "metadata": {
        "id": "2AsyFnEO-Sw8"
      }
    },
    {
      "cell_type": "code",
      "source": [
        "#커널 가중치 비율이 모두 같음 => 이웃 픽셀의 평균을 갖음\n",
        "conv = nn.Conv2d(3,1,kernel_size=3,padding=1)\n",
        "with torch.no_grad():\n",
        "  conv.bias.zero_()\n",
        "  conv.weight.fill_(1.0/9.0)\n",
        "  #위와 같은 의미 conv.weight.one_()\n",
        "\n",
        "img , _ = cifar2[99]\n",
        "output = conv(img.unsqueeze(0))\n",
        "print(img.unsqueeze(0).shape,output.shape)"
      ],
      "metadata": {
        "colab": {
          "base_uri": "https://localhost:8080/"
        },
        "id": "Gd_cxt6J7K9S",
        "outputId": "ec7aee8f-d35b-4eab-ca9c-859cf7e5a470"
      },
      "execution_count": 24,
      "outputs": [
        {
          "output_type": "stream",
          "name": "stdout",
          "text": [
            "torch.Size([1, 3, 32, 32]) torch.Size([1, 1, 32, 32])\n"
          ]
        }
      ]
    },
    {
      "cell_type": "code",
      "source": [
        "plt.figure(figsize=(10, 4.8))  # bookskip\n",
        "ax1 = plt.subplot(1, 2, 1)   # bookskip\n",
        "plt.title('output')   # bookskip\n",
        "plt.imshow(output[0, 0].detach(), cmap='gray')\n",
        "plt.subplot(1, 2, 2, sharex=ax1, sharey=ax1)  # bookskip\n",
        "plt.imshow(img.mean(0), cmap='gray')  # bookskip\n",
        "plt.title('input')  # bookskip\n",
        "plt.show()\n",
        "#이웃 픽셀의 평균이 되므로 흐릿해짐"
      ],
      "metadata": {
        "colab": {
          "base_uri": "https://localhost:8080/",
          "height": 318
        },
        "id": "yJMuwzQUABoC",
        "outputId": "00cb6924-7491-4cbf-de80-3491c2a5aec9"
      },
      "execution_count": 25,
      "outputs": [
        {
          "output_type": "display_data",
          "data": {
            "text/plain": [
              "<Figure size 720x345.6 with 2 Axes>"
            ],
            "image/png": "[encoded data removed]"
          },
          "metadata": {
            "needs_background": "light"
          }
        }
      ]
    },
    {
      "cell_type": "code",
      "source": [
        "#커널 가중치 변경 => 오른쪽 픽셀에서 왼쪽 픽셀을 뺌\n",
        "conv = nn.Conv2d(3,1,kernel_size=3,padding=1)\n",
        "with torch.no_grad():\n",
        "  conv.bias.zero_()\n",
        "  conv.weight[:] = torch.tensor([[-1.0 , 0.0 , 1.0],\n",
        "                              [-1.0 , 0.0 , 1.0],\n",
        "                              [-1.0 , 0.0 , 1.0]])\n",
        "\n",
        "img , _ = cifar2[99]\n",
        "output = conv(img.unsqueeze(0))\n",
        "print(img.unsqueeze(0).shape,output.shape)"
      ],
      "metadata": {
        "colab": {
          "base_uri": "https://localhost:8080/"
        },
        "id": "tWRVCH6hANF2",
        "outputId": "7f8c1aac-c096-40b6-ec37-eedb3de6b300"
      },
      "execution_count": 26,
      "outputs": [
        {
          "output_type": "stream",
          "name": "stdout",
          "text": [
            "torch.Size([1, 3, 32, 32]) torch.Size([1, 1, 32, 32])\n"
          ]
        }
      ]
    },
    {
      "cell_type": "code",
      "source": [
        "plt.figure(figsize=(10, 4.8))  # bookskip\n",
        "ax1 = plt.subplot(1, 2, 1)   # bookskip\n",
        "plt.title('output')   # bookskip\n",
        "plt.imshow(output[0, 0].detach(), cmap='gray')\n",
        "plt.subplot(1, 2, 2, sharex=ax1, sharey=ax1)  # bookskip\n",
        "plt.imshow(img.mean(0), cmap='gray')  # bookskip\n",
        "plt.title('input')  # bookskip\n",
        "plt.show()\n",
        "#비슷한 영역에서는 값이 0 , 경계에선 값이 높아짐 즉, 인접한 두 영역의 수직 경계를 탐색"
      ],
      "metadata": {
        "colab": {
          "base_uri": "https://localhost:8080/",
          "height": 318
        },
        "id": "7ylupeA1As-G",
        "outputId": "e3a079a7-6937-4c60-87ba-0c5ff3bc4249"
      },
      "execution_count": 27,
      "outputs": [
        {
          "output_type": "display_data",
          "data": {
            "text/plain": [
              "<Figure size 720x345.6 with 2 Axes>"
            ],
            "image/png": "[encoded data removed]"
          },
          "metadata": {
            "needs_background": "light"
          }
        }
      ]
    },
    {
      "cell_type": "code",
      "source": [],
      "metadata": {
        "id": "G56hdBgmBIUd"
      },
      "execution_count": 27,
      "outputs": []
    },
    {
      "cell_type": "markdown",
      "source": [
        "#픽셀이 큰 객체를 탐지하기  \n",
        "1. 커널 사이즈를 키운다 -> 완전 연결망의 아핀 변환으로 수렴 함(컨볼루션 장점을 잃음)  \n",
        "2. 풀링을 이용하여 지역성 넓히기 -> 다운샘플링  "
      ],
      "metadata": {
        "id": "aPFr4TrxCz_x"
      }
    },
    {
      "cell_type": "code",
      "source": [
        "#평균 풀링은 초창기 많이 사용\n",
        "#추세는 맥스 풀링임 / 단점은 데이터의 3/4를 버림\n",
        "#(3x4)컨볼루션을 스트라이드 2 => 가능성은 있지만 맥스풀링이 대세\n",
        "pool = nn.MaxPool2d(2)\n",
        "output = pool(img.unsqueeze(0))\n",
        "print(img.unsqueeze(0).shape,output.shape)"
      ],
      "metadata": {
        "colab": {
          "base_uri": "https://localhost:8080/"
        },
        "id": "iFiwWnCgDDN0",
        "outputId": "e2a5f9e2-ead4-4f59-81fd-a1a24d16df6d"
      },
      "execution_count": 28,
      "outputs": [
        {
          "output_type": "stream",
          "name": "stdout",
          "text": [
            "torch.Size([1, 3, 32, 32]) torch.Size([1, 3, 16, 16])\n"
          ]
        }
      ]
    },
    {
      "cell_type": "code",
      "source": [
        "plt.figure(figsize=(10, 4.8))  # bookskip\n",
        "ax1 = plt.subplot(1, 2, 1)   # bookskip\n",
        "plt.title('output')   # bookskip\n",
        "plt.imshow(output[0, 0].detach(), cmap='gray')\n",
        "plt.subplot(1, 2, 2, sharex=ax1, sharey=ax1)  # bookskip\n",
        "plt.imshow(img.mean(0), cmap='gray')  # bookskip\n",
        "plt.title('input')  # bookskip\n",
        "plt.show()\n",
        "#비슷한 영역에서는 값이 0 , 경계에선 값이 높아짐 즉, 인접한 두 영역의 수직 경계를 탐색"
      ],
      "metadata": {
        "colab": {
          "base_uri": "https://localhost:8080/",
          "height": 318
        },
        "id": "UO-sImNMGZtT",
        "outputId": "f3d6bf92-90c2-4d2b-bdd9-36989fc58691"
      },
      "execution_count": 29,
      "outputs": [
        {
          "output_type": "display_data",
          "data": {
            "text/plain": [
              "<Figure size 720x345.6 with 2 Axes>"
            ],
            "image/png": "[encoded data removed]"
          },
          "metadata": {
            "needs_background": "light"
          }
        }
      ]
    },
    {
      "cell_type": "code",
      "source": [],
      "metadata": {
        "id": "psotI8kNGaCF"
      },
      "execution_count": 29,
      "outputs": []
    },
    {
      "cell_type": "markdown",
      "source": [
        "#conv + MaxPooling"
      ],
      "metadata": {
        "id": "D6rWXbYEGhBs"
      }
    },
    {
      "cell_type": "code",
      "source": [
        "#sequential을 이용하여 편하게 모델 생성\n",
        "model = nn.Sequential(\n",
        "     nn.Conv2d(3, 16, kernel_size=3, padding=1),\n",
        "            nn.Tanh(),\n",
        "            nn.MaxPool2d(2),\n",
        "            nn.Conv2d(16, 8, kernel_size=3, padding=1),\n",
        "            nn.Tanh(),\n",
        "            nn.MaxPool2d(2),\n",
        "            nn.Flatten(),\n",
        "            nn.Linear(8 * 8 * 8, 32),\n",
        "            nn.Tanh(),\n",
        "            nn.Linear(32, 2),\n",
        "            nn.Softmax()\n",
        ")\n",
        "\n",
        "img , _ = cifar2[99]\n",
        "output = model(img.unsqueeze(0))\n",
        "output"
      ],
      "metadata": {
        "colab": {
          "base_uri": "https://localhost:8080/"
        },
        "id": "u0lZcGR0Gjpc",
        "outputId": "6cc2f4dd-3c09-4e20-cf1c-c385420150b2"
      },
      "execution_count": 30,
      "outputs": [
        {
          "output_type": "stream",
          "name": "stderr",
          "text": [
            "/usr/local/lib/python3.8/dist-packages/torch/nn/modules/container.py:204: UserWarning: Implicit dimension choice for softmax has been deprecated. Change the call to include dim=X as an argument.\n",
            "  input = module(input)\n"
          ]
        },
        {
          "output_type": "execute_result",
          "data": {
            "text/plain": [
              "tensor([[0.4965, 0.5035]], grad_fn=<SoftmaxBackward0>)"
            ]
          },
          "metadata": {},
          "execution_count": 30
        }
      ]
    },
    {
      "cell_type": "code",
      "source": [
        "#직접 모듈 만들기 / 지원하지 않는 기능을 써야할 때\n",
        "class Net(nn.Module):\n",
        "    def __init__(self):\n",
        "        super().__init__()\n",
        "        self.conv1 = nn.Conv2d(3, 16, kernel_size=3, padding=1)\n",
        "        self.act1 = nn.Tanh()\n",
        "        self.pool1 = nn.MaxPool2d(2)\n",
        "        self.conv2 = nn.Conv2d(16, 8, kernel_size=3, padding=1)\n",
        "        self.act2 = nn.Tanh()\n",
        "        self.pool2 = nn.MaxPool2d(2)\n",
        "        self.fc1 = nn.Linear(8 * 8 * 8, 32)\n",
        "        self.act3 = nn.Tanh()\n",
        "        self.fc2 = nn.Linear(32, 2)\n",
        "\n",
        "    def forward(self, x):\n",
        "        out = self.pool1(self.act1(self.conv1(x)))\n",
        "        out = self.pool2(self.act2(self.conv2(out)))\n",
        "        out = out.view(-1, 8 * 8 * 8) # Flatten기능\n",
        "        out = self.act3(self.fc1(out))\n",
        "        out = self.fc2(out)\n",
        "        return out\n",
        "\n",
        "\n",
        "\n",
        "#함수형 API를 사용하여 더 간결하게 변경\n",
        "import torch.nn.functional as F\n",
        "\n",
        "class Net(nn.Module):\n",
        "    def __init__(self):\n",
        "        super().__init__()\n",
        "        self.conv1 = nn.Conv2d(3, 16, kernel_size=3, padding=1)\n",
        "        self.conv2 = nn.Conv2d(16, 8, kernel_size=3, padding=1)\n",
        "        self.fc1 = nn.Linear(8 * 8 * 8, 32)\n",
        "        self.fc2 = nn.Linear(32, 2)\n",
        "        \n",
        "    def forward(self, x):\n",
        "        out = F.max_pool2d(torch.tanh(self.conv1(x)), 2)\n",
        "        out = F.max_pool2d(torch.tanh(self.conv2(out)), 2)\n",
        "        out = out.view(-1, 8 * 8 * 8)\n",
        "        out = torch.tanh(self.fc1(out))\n",
        "        out = self.fc2(out)\n",
        "        return out"
      ],
      "metadata": {
        "id": "WqmKQNSIIb1O"
      },
      "execution_count": 31,
      "outputs": []
    },
    {
      "cell_type": "code",
      "source": [
        "model = Net()\n",
        "model(img.unsqueeze(0))"
      ],
      "metadata": {
        "colab": {
          "base_uri": "https://localhost:8080/"
        },
        "id": "hN2LXTc3PNPN",
        "outputId": "e45ddbb0-3950-464f-e164-6c72aff479da"
      },
      "execution_count": 32,
      "outputs": [
        {
          "output_type": "execute_result",
          "data": {
            "text/plain": [
              "tensor([[-0.0596,  0.0296]], grad_fn=<AddmmBackward0>)"
            ]
          },
          "metadata": {},
          "execution_count": 32
        }
      ]
    },
    {
      "cell_type": "code",
      "source": [],
      "metadata": {
        "id": "tT5NipMmPOpb"
      },
      "execution_count": 32,
      "outputs": []
    },
    {
      "cell_type": "markdown",
      "source": [
        "#훈련 시작"
      ],
      "metadata": {
        "id": "WeDtsxRWQkUN"
      }
    },
    {
      "cell_type": "code",
      "source": [
        "import datetime  # <1>\n",
        "\n",
        "def training_loop(n_epochs, optimizer, model, loss_fn, train_loader):\n",
        "    for epoch in range(1, n_epochs + 1):  \n",
        "        loss_train = 0.0\n",
        "        for imgs, labels in train_loader:  # 데이터셋 순회\n",
        "            \n",
        "            outputs = model(imgs)  # 모델에 배치 넣기\n",
        "            \n",
        "            loss = loss_fn(outputs, labels)  # 손실 값 계싼\n",
        "\n",
        "            optimizer.zero_grad()  # 이전 기울기 값 제거 , 기울기 값 초기화\n",
        "            \n",
        "            loss.backward()  # 역전파 수행 , 모든 파라미터에 대한 기울기 계산\n",
        "            \n",
        "            optimizer.step()  # 모델 업데이트\n",
        "\n",
        "            loss_train += loss.item()  # item을 이용하여 파이썬 수로 변환\n",
        "\n",
        "        if epoch == 1 or epoch % 10 == 0:\n",
        "            print('{} Epoch {}, Training loss {}'.format(\n",
        "                datetime.datetime.now(), epoch,\n",
        "                loss_train / len(train_loader)))"
      ],
      "metadata": {
        "id": "ZMcz1PPfQmJU"
      },
      "execution_count": 33,
      "outputs": []
    },
    {
      "cell_type": "code",
      "source": [
        "train_loader = torch.utils.data.DataLoader(cifar2, batch_size=64,\n",
        "                                           shuffle=True)  \n",
        "\n",
        "model = Net()  # 신경망 , 모델 초기화\n",
        "optimizer = optim.SGD(model.parameters(), lr=1e-2)  \n",
        "loss_fn = nn.CrossEntropyLoss()  # \n",
        "\n",
        "training_loop(  \n",
        "    n_epochs = 100,\n",
        "    optimizer = optimizer,\n",
        "    model = model,\n",
        "    loss_fn = loss_fn,\n",
        "    train_loader = train_loader,\n",
        ")"
      ],
      "metadata": {
        "colab": {
          "base_uri": "https://localhost:8080/",
          "height": 418
        },
        "id": "wDziVI7LRCft",
        "outputId": "2458e494-555b-4d0b-c890-e489623a3926"
      },
      "execution_count": 34,
      "outputs": [
        {
          "output_type": "stream",
          "name": "stdout",
          "text": [
            "2023-01-15 16:29:10.934874 Epoch 1, Training loss 0.5727586423515514\n"
          ]
        },
        {
          "output_type": "error",
          "ename": "KeyboardInterrupt",
          "evalue": "ignored",
          "traceback": [
            "\u001b[0;31m---------------------------------------------------------------------------\u001b[0m",
            "\u001b[0;31mKeyboardInterrupt\u001b[0m                         Traceback (most recent call last)",
            "\u001b[0;32m<ipython-input-34-950c5008f4e6>\u001b[0m in \u001b[0;36m<module>\u001b[0;34m\u001b[0m\n\u001b[1;32m      6\u001b[0m \u001b[0mloss_fn\u001b[0m \u001b[0;34m=\u001b[0m \u001b[0mnn\u001b[0m\u001b[0;34m.\u001b[0m\u001b[0mCrossEntropyLoss\u001b[0m\u001b[0;34m(\u001b[0m\u001b[0;34m)\u001b[0m  \u001b[0;31m#\u001b[0m\u001b[0;34m\u001b[0m\u001b[0;34m\u001b[0m\u001b[0m\n\u001b[1;32m      7\u001b[0m \u001b[0;34m\u001b[0m\u001b[0m\n\u001b[0;32m----> 8\u001b[0;31m training_loop(  \n\u001b[0m\u001b[1;32m      9\u001b[0m     \u001b[0mn_epochs\u001b[0m \u001b[0;34m=\u001b[0m \u001b[0;36m100\u001b[0m\u001b[0;34m,\u001b[0m\u001b[0;34m\u001b[0m\u001b[0;34m\u001b[0m\u001b[0m\n\u001b[1;32m     10\u001b[0m     \u001b[0moptimizer\u001b[0m \u001b[0;34m=\u001b[0m \u001b[0moptimizer\u001b[0m\u001b[0;34m,\u001b[0m\u001b[0;34m\u001b[0m\u001b[0;34m\u001b[0m\u001b[0m\n",
            "\u001b[0;32m<ipython-input-33-b02b431c6247>\u001b[0m in \u001b[0;36mtraining_loop\u001b[0;34m(n_epochs, optimizer, model, loss_fn, train_loader)\u001b[0m\n\u001b[1;32m      6\u001b[0m         \u001b[0;32mfor\u001b[0m \u001b[0mimgs\u001b[0m\u001b[0;34m,\u001b[0m \u001b[0mlabels\u001b[0m \u001b[0;32min\u001b[0m \u001b[0mtrain_loader\u001b[0m\u001b[0;34m:\u001b[0m  \u001b[0;31m# 데이터셋 순회\u001b[0m\u001b[0;34m\u001b[0m\u001b[0;34m\u001b[0m\u001b[0m\n\u001b[1;32m      7\u001b[0m \u001b[0;34m\u001b[0m\u001b[0m\n\u001b[0;32m----> 8\u001b[0;31m             \u001b[0moutputs\u001b[0m \u001b[0;34m=\u001b[0m \u001b[0mmodel\u001b[0m\u001b[0;34m(\u001b[0m\u001b[0mimgs\u001b[0m\u001b[0;34m)\u001b[0m  \u001b[0;31m# 모델에 배치 넣기\u001b[0m\u001b[0;34m\u001b[0m\u001b[0;34m\u001b[0m\u001b[0m\n\u001b[0m\u001b[1;32m      9\u001b[0m \u001b[0;34m\u001b[0m\u001b[0m\n\u001b[1;32m     10\u001b[0m             \u001b[0mloss\u001b[0m \u001b[0;34m=\u001b[0m \u001b[0mloss_fn\u001b[0m\u001b[0;34m(\u001b[0m\u001b[0moutputs\u001b[0m\u001b[0;34m,\u001b[0m \u001b[0mlabels\u001b[0m\u001b[0;34m)\u001b[0m  \u001b[0;31m# 손실 값 계싼\u001b[0m\u001b[0;34m\u001b[0m\u001b[0;34m\u001b[0m\u001b[0m\n",
            "\u001b[0;32m/usr/local/lib/python3.8/dist-packages/torch/nn/modules/module.py\u001b[0m in \u001b[0;36m_call_impl\u001b[0;34m(self, *input, **kwargs)\u001b[0m\n\u001b[1;32m   1188\u001b[0m         if not (self._backward_hooks or self._forward_hooks or self._forward_pre_hooks or _global_backward_hooks\n\u001b[1;32m   1189\u001b[0m                 or _global_forward_hooks or _global_forward_pre_hooks):\n\u001b[0;32m-> 1190\u001b[0;31m             \u001b[0;32mreturn\u001b[0m \u001b[0mforward_call\u001b[0m\u001b[0;34m(\u001b[0m\u001b[0;34m*\u001b[0m\u001b[0minput\u001b[0m\u001b[0;34m,\u001b[0m \u001b[0;34m**\u001b[0m\u001b[0mkwargs\u001b[0m\u001b[0;34m)\u001b[0m\u001b[0;34m\u001b[0m\u001b[0;34m\u001b[0m\u001b[0m\n\u001b[0m\u001b[1;32m   1191\u001b[0m         \u001b[0;31m# Do not call functions when jit is used\u001b[0m\u001b[0;34m\u001b[0m\u001b[0;34m\u001b[0m\u001b[0;34m\u001b[0m\u001b[0m\n\u001b[1;32m   1192\u001b[0m         \u001b[0mfull_backward_hooks\u001b[0m\u001b[0;34m,\u001b[0m \u001b[0mnon_full_backward_hooks\u001b[0m \u001b[0;34m=\u001b[0m \u001b[0;34m[\u001b[0m\u001b[0;34m]\u001b[0m\u001b[0;34m,\u001b[0m \u001b[0;34m[\u001b[0m\u001b[0;34m]\u001b[0m\u001b[0;34m\u001b[0m\u001b[0;34m\u001b[0m\u001b[0m\n",
            "\u001b[0;32m<ipython-input-31-ee50fd43024b>\u001b[0m in \u001b[0;36mforward\u001b[0;34m(self, x)\u001b[0m\n\u001b[1;32m     35\u001b[0m \u001b[0;34m\u001b[0m\u001b[0m\n\u001b[1;32m     36\u001b[0m     \u001b[0;32mdef\u001b[0m \u001b[0mforward\u001b[0m\u001b[0;34m(\u001b[0m\u001b[0mself\u001b[0m\u001b[0;34m,\u001b[0m \u001b[0mx\u001b[0m\u001b[0;34m)\u001b[0m\u001b[0;34m:\u001b[0m\u001b[0;34m\u001b[0m\u001b[0;34m\u001b[0m\u001b[0m\n\u001b[0;32m---> 37\u001b[0;31m         \u001b[0mout\u001b[0m \u001b[0;34m=\u001b[0m \u001b[0mF\u001b[0m\u001b[0;34m.\u001b[0m\u001b[0mmax_pool2d\u001b[0m\u001b[0;34m(\u001b[0m\u001b[0mtorch\u001b[0m\u001b[0;34m.\u001b[0m\u001b[0mtanh\u001b[0m\u001b[0;34m(\u001b[0m\u001b[0mself\u001b[0m\u001b[0;34m.\u001b[0m\u001b[0mconv1\u001b[0m\u001b[0;34m(\u001b[0m\u001b[0mx\u001b[0m\u001b[0;34m)\u001b[0m\u001b[0;34m)\u001b[0m\u001b[0;34m,\u001b[0m \u001b[0;36m2\u001b[0m\u001b[0;34m)\u001b[0m\u001b[0;34m\u001b[0m\u001b[0;34m\u001b[0m\u001b[0m\n\u001b[0m\u001b[1;32m     38\u001b[0m         \u001b[0mout\u001b[0m \u001b[0;34m=\u001b[0m \u001b[0mF\u001b[0m\u001b[0;34m.\u001b[0m\u001b[0mmax_pool2d\u001b[0m\u001b[0;34m(\u001b[0m\u001b[0mtorch\u001b[0m\u001b[0;34m.\u001b[0m\u001b[0mtanh\u001b[0m\u001b[0;34m(\u001b[0m\u001b[0mself\u001b[0m\u001b[0;34m.\u001b[0m\u001b[0mconv2\u001b[0m\u001b[0;34m(\u001b[0m\u001b[0mout\u001b[0m\u001b[0;34m)\u001b[0m\u001b[0;34m)\u001b[0m\u001b[0;34m,\u001b[0m \u001b[0;36m2\u001b[0m\u001b[0;34m)\u001b[0m\u001b[0;34m\u001b[0m\u001b[0;34m\u001b[0m\u001b[0m\n\u001b[1;32m     39\u001b[0m         \u001b[0mout\u001b[0m \u001b[0;34m=\u001b[0m \u001b[0mout\u001b[0m\u001b[0;34m.\u001b[0m\u001b[0mview\u001b[0m\u001b[0;34m(\u001b[0m\u001b[0;34m-\u001b[0m\u001b[0;36m1\u001b[0m\u001b[0;34m,\u001b[0m \u001b[0;36m8\u001b[0m \u001b[0;34m*\u001b[0m \u001b[0;36m8\u001b[0m \u001b[0;34m*\u001b[0m \u001b[0;36m8\u001b[0m\u001b[0;34m)\u001b[0m\u001b[0;34m\u001b[0m\u001b[0;34m\u001b[0m\u001b[0m\n",
            "\u001b[0;32m/usr/local/lib/python3.8/dist-packages/torch/_jit_internal.py\u001b[0m in \u001b[0;36mfn\u001b[0;34m(*args, **kwargs)\u001b[0m\n\u001b[1;32m    483\u001b[0m             \u001b[0;32mreturn\u001b[0m \u001b[0mif_true\u001b[0m\u001b[0;34m(\u001b[0m\u001b[0;34m*\u001b[0m\u001b[0margs\u001b[0m\u001b[0;34m,\u001b[0m \u001b[0;34m**\u001b[0m\u001b[0mkwargs\u001b[0m\u001b[0;34m)\u001b[0m\u001b[0;34m\u001b[0m\u001b[0;34m\u001b[0m\u001b[0m\n\u001b[1;32m    484\u001b[0m         \u001b[0;32melse\u001b[0m\u001b[0;34m:\u001b[0m\u001b[0;34m\u001b[0m\u001b[0;34m\u001b[0m\u001b[0m\n\u001b[0;32m--> 485\u001b[0;31m             \u001b[0;32mreturn\u001b[0m \u001b[0mif_false\u001b[0m\u001b[0;34m(\u001b[0m\u001b[0;34m*\u001b[0m\u001b[0margs\u001b[0m\u001b[0;34m,\u001b[0m \u001b[0;34m**\u001b[0m\u001b[0mkwargs\u001b[0m\u001b[0;34m)\u001b[0m\u001b[0;34m\u001b[0m\u001b[0;34m\u001b[0m\u001b[0m\n\u001b[0m\u001b[1;32m    486\u001b[0m \u001b[0;34m\u001b[0m\u001b[0m\n\u001b[1;32m    487\u001b[0m     \u001b[0;32mif\u001b[0m \u001b[0mif_true\u001b[0m\u001b[0;34m.\u001b[0m\u001b[0m__doc__\u001b[0m \u001b[0;32mis\u001b[0m \u001b[0;32mNone\u001b[0m \u001b[0;32mand\u001b[0m \u001b[0mif_false\u001b[0m\u001b[0;34m.\u001b[0m\u001b[0m__doc__\u001b[0m \u001b[0;32mis\u001b[0m \u001b[0;32mnot\u001b[0m \u001b[0;32mNone\u001b[0m\u001b[0;34m:\u001b[0m\u001b[0;34m\u001b[0m\u001b[0;34m\u001b[0m\u001b[0m\n",
            "\u001b[0;32m/usr/local/lib/python3.8/dist-packages/torch/nn/functional.py\u001b[0m in \u001b[0;36m_max_pool2d\u001b[0;34m(input, kernel_size, stride, padding, dilation, ceil_mode, return_indices)\u001b[0m\n\u001b[1;32m    780\u001b[0m     \u001b[0;32mif\u001b[0m \u001b[0mstride\u001b[0m \u001b[0;32mis\u001b[0m \u001b[0;32mNone\u001b[0m\u001b[0;34m:\u001b[0m\u001b[0;34m\u001b[0m\u001b[0;34m\u001b[0m\u001b[0m\n\u001b[1;32m    781\u001b[0m         \u001b[0mstride\u001b[0m \u001b[0;34m=\u001b[0m \u001b[0mtorch\u001b[0m\u001b[0;34m.\u001b[0m\u001b[0mjit\u001b[0m\u001b[0;34m.\u001b[0m\u001b[0mannotate\u001b[0m\u001b[0;34m(\u001b[0m\u001b[0mList\u001b[0m\u001b[0;34m[\u001b[0m\u001b[0mint\u001b[0m\u001b[0;34m]\u001b[0m\u001b[0;34m,\u001b[0m \u001b[0;34m[\u001b[0m\u001b[0;34m]\u001b[0m\u001b[0;34m)\u001b[0m\u001b[0;34m\u001b[0m\u001b[0;34m\u001b[0m\u001b[0m\n\u001b[0;32m--> 782\u001b[0;31m     \u001b[0;32mreturn\u001b[0m \u001b[0mtorch\u001b[0m\u001b[0;34m.\u001b[0m\u001b[0mmax_pool2d\u001b[0m\u001b[0;34m(\u001b[0m\u001b[0minput\u001b[0m\u001b[0;34m,\u001b[0m \u001b[0mkernel_size\u001b[0m\u001b[0;34m,\u001b[0m \u001b[0mstride\u001b[0m\u001b[0;34m,\u001b[0m \u001b[0mpadding\u001b[0m\u001b[0;34m,\u001b[0m \u001b[0mdilation\u001b[0m\u001b[0;34m,\u001b[0m \u001b[0mceil_mode\u001b[0m\u001b[0;34m)\u001b[0m\u001b[0;34m\u001b[0m\u001b[0;34m\u001b[0m\u001b[0m\n\u001b[0m\u001b[1;32m    783\u001b[0m \u001b[0;34m\u001b[0m\u001b[0m\n\u001b[1;32m    784\u001b[0m \u001b[0;34m\u001b[0m\u001b[0m\n",
            "\u001b[0;31mKeyboardInterrupt\u001b[0m: "
          ]
        }
      ]
    },
    {
      "cell_type": "code",
      "source": [
        "#정확도 측정\n",
        "train_loader = torch.utils.data.DataLoader(cifar2, batch_size=64,\n",
        "                                           shuffle=False)\n",
        "val_loader = torch.utils.data.DataLoader(cifar2_val, batch_size=64,\n",
        "                                         shuffle=False)\n",
        "\n",
        "def validate(model, train_loader, val_loader):\n",
        "    for name, loader in [(\"train\", train_loader), (\"val\", val_loader)]:\n",
        "        correct = 0\n",
        "        total = 0\n",
        "\n",
        "        with torch.no_grad():  # 파라미터 업데이트를 하지 않을 것이므로 기울기는 필요없음\n",
        "            for imgs, labels in loader:\n",
        "                outputs = model(imgs)\n",
        "                _, predicted = torch.max(outputs, dim=1) # 가장 높은 인덱스 출력\n",
        "                total += labels.shape[0]  \n",
        "                correct += int((predicted == labels).sum())\n",
        "\n",
        "        print(\"Accuracy {}: {:.2f}\".format(name , correct / total))\n",
        "\n",
        "validate(model, train_loader, val_loader)"
      ],
      "metadata": {
        "id": "ifPpKkRGRSA-"
      },
      "execution_count": null,
      "outputs": []
    },
    {
      "cell_type": "code",
      "source": [
        "#모델 저장\n",
        "torch.save(model.state_dict(), data_path + 'birds_vs_airplanes.pt')\n",
        "\n",
        "#모델 불러오기\n",
        "loaded_model = Net()  # <1>\n",
        "loaded_model.load_state_dict(torch.load(data_path\n",
        "                                        + 'birds_vs_airplanes.pt'))"
      ],
      "metadata": {
        "id": "olVoasGSRbLS"
      },
      "execution_count": null,
      "outputs": []
    },
    {
      "cell_type": "code",
      "source": [],
      "metadata": {
        "id": "EzLoQP8SR6pL"
      },
      "execution_count": null,
      "outputs": []
    },
    {
      "cell_type": "markdown",
      "source": [
        "#gpu"
      ],
      "metadata": {
        "id": "5RBlwEWPUT1x"
      }
    },
    {
      "cell_type": "code",
      "source": [
        "device = (torch.device('cuda') if torch.cuda.is_available()\n",
        "          else torch.device('cpu'))\n",
        "print(f\"Training on device {device}.\")"
      ],
      "metadata": {
        "colab": {
          "base_uri": "https://localhost:8080/"
        },
        "id": "IUjlb4iRUU01",
        "outputId": "c8edca19-ad75-43be-bd66-71e698fbb369"
      },
      "execution_count": 44,
      "outputs": [
        {
          "output_type": "stream",
          "name": "stdout",
          "text": [
            "Training on device cuda.\n"
          ]
        }
      ]
    },
    {
      "cell_type": "code",
      "source": [
        "def training_loop(n_epochs, optimizer, model, loss_fn, train_loader):\n",
        "    for epoch in range(1, n_epochs + 1):\n",
        "        loss_train = 0.0\n",
        "        for imgs, labels in train_loader:\n",
        "            imgs = imgs.to(device=device)  # 이미지와 라벨 텐서 gpu로 보냄\n",
        "            labels = labels.to(device=device)\n",
        "            outputs = model(imgs)\n",
        "            loss = loss_fn(outputs, labels)\n",
        "\n",
        "            optimizer.zero_grad()\n",
        "            loss.backward()\n",
        "            optimizer.step()\n",
        "\n",
        "            loss_train += loss.item()\n",
        "\n",
        "        if epoch == 1 or epoch % 10 == 0:\n",
        "            print('{} Epoch {}, Training loss {}'.format(\n",
        "                datetime.datetime.now(), epoch,\n",
        "                loss_train / len(train_loader)))"
      ],
      "metadata": {
        "id": "l8d5tobKUWAf"
      },
      "execution_count": 43,
      "outputs": []
    },
    {
      "cell_type": "code",
      "source": [
        "train_loader = torch.utils.data.DataLoader(cifar2, batch_size=64,\n",
        "                                           shuffle=True)\n",
        "\n",
        "model = Net().to(device=device)  # 모델(파라미터)를 gpu로 보냄\n",
        "optimizer = optim.SGD(model.parameters(), lr=1e-2) #모델을 보낸 후 옵티마이저 정의\n",
        "loss_fn = nn.CrossEntropyLoss()\n",
        "\n",
        "training_loop(\n",
        "    n_epochs = 100,\n",
        "    optimizer = optimizer,\n",
        "    model = model,\n",
        "    loss_fn = loss_fn,\n",
        "    train_loader = train_loader,\n",
        ")"
      ],
      "metadata": {
        "id": "WAQ9SmQdUqqb"
      },
      "execution_count": null,
      "outputs": []
    },
    {
      "cell_type": "code",
      "source": [
        "loaded_model = Net().to(device=device)\n",
        "loaded_model.load_state_dict(torch.load(data_path\n",
        "                                        + 'birds_vs_airplanes.pt',\n",
        "                                        map_location=device))"
      ],
      "metadata": {
        "id": "empfEkjHU9W0"
      },
      "execution_count": null,
      "outputs": []
    },
    {
      "cell_type": "code",
      "source": [
        "def validate(model, train_loader, val_loader):\n",
        "    accdict = {}\n",
        "    for name, loader in [(\"train\", train_loader), (\"val\", val_loader)]:\n",
        "        correct = 0\n",
        "        total = 0\n",
        "\n",
        "        with torch.no_grad():\n",
        "            for imgs, labels in loader:\n",
        "                imgs = imgs.to(device=device)\n",
        "                labels = labels.to(device=device)\n",
        "                outputs = model(imgs)\n",
        "                _, predicted = torch.max(outputs, dim=1) # <1>\n",
        "                total += labels.shape[0]\n",
        "                correct += int((predicted == labels).sum())\n",
        "\n",
        "        print(\"Accuracy {}: {:.2f}\".format(name , correct / total))\n",
        "        accdict[name] = correct / total\n",
        "    return accdict"
      ],
      "metadata": {
        "id": "2-LkZhP9Vo_u"
      },
      "execution_count": 38,
      "outputs": []
    },
    {
      "cell_type": "markdown",
      "source": [
        "#파라미터화 + 드롭아웃"
      ],
      "metadata": {
        "id": "9SJlHrXoNf19"
      }
    },
    {
      "cell_type": "code",
      "source": [
        "class NetDropout(nn.Module):\n",
        "    def __init__(self, n_chans1=32):\n",
        "        super().__init__()\n",
        "        self.n_chans1 = n_chans1\n",
        "        self.conv1 = nn.Conv2d(3, n_chans1, kernel_size=3, padding=1)\n",
        "        self.conv1_dropout = nn.Dropout2d(p=0.4)\n",
        "        self.conv2 = nn.Conv2d(n_chans1, n_chans1 // 2, kernel_size=3,\n",
        "                               padding=1)\n",
        "        self.conv2_dropout = nn.Dropout2d(p=0.4)\n",
        "        self.fc1 = nn.Linear(8 * 8 * n_chans1 // 2, 32)\n",
        "        self.fc2 = nn.Linear(32, 2)\n",
        "        \n",
        "    def forward(self, x):\n",
        "        out = F.max_pool2d(torch.tanh(self.conv1(x)), 2)\n",
        "        out = self.conv1_dropout(out)\n",
        "        out = F.max_pool2d(torch.tanh(self.conv2(out)), 2)\n",
        "        out = self.conv2_dropout(out)\n",
        "        out = out.view(-1, 8 * 8 * self.n_chans1 // 2)\n",
        "        out = torch.tanh(self.fc1(out))\n",
        "        out = self.fc2(out)\n",
        "        return out"
      ],
      "metadata": {
        "id": "O7VlimTMNn9u"
      },
      "execution_count": 45,
      "outputs": []
    },
    {
      "cell_type": "code",
      "source": [
        "import datetime\n",
        "device = (torch.device('cuda') if torch.cuda.is_available()\n",
        "          else torch.device('cpu'))\n",
        "train_loader = torch.utils.data.DataLoader(cifar2, batch_size=64,\n",
        "                                           shuffle=True)\n",
        "\n",
        "model = NetDropout(n_chans1=32).to(device=device)\n",
        "optimizer = optim.SGD(model.parameters(), lr=1e-2)\n",
        "loss_fn = nn.CrossEntropyLoss()\n",
        "\n",
        "training_loop(\n",
        "    n_epochs = 100,\n",
        "    optimizer = optimizer,\n",
        "    model = model,\n",
        "    loss_fn = loss_fn,\n",
        "    train_loader = train_loader,\n",
        ")\n",
        "validate(model, train_loader, val_loader)"
      ],
      "metadata": {
        "colab": {
          "base_uri": "https://localhost:8080/"
        },
        "id": "p9REJCeKOWmw",
        "outputId": "994c19db-bf31-468b-bb84-db52cb0861e4"
      },
      "execution_count": 46,
      "outputs": [
        {
          "output_type": "stream",
          "name": "stdout",
          "text": [
            "2023-01-15 16:32:42.024735 Epoch 1, Training loss 0.569401436550602\n",
            "2023-01-15 16:32:45.930222 Epoch 10, Training loss 0.3735391947494191\n",
            "2023-01-15 16:32:50.310879 Epoch 20, Training loss 0.34523271413365747\n",
            "2023-01-15 16:32:54.711544 Epoch 30, Training loss 0.32953002299093137\n",
            "2023-01-15 16:32:59.120716 Epoch 40, Training loss 0.31189146932143313\n",
            "2023-01-15 16:33:03.567098 Epoch 50, Training loss 0.29827113392626403\n",
            "2023-01-15 16:33:07.954247 Epoch 60, Training loss 0.2895691221117214\n",
            "2023-01-15 16:33:12.385795 Epoch 70, Training loss 0.27182397502622785\n",
            "2023-01-15 16:33:16.763582 Epoch 80, Training loss 0.2634085770815041\n",
            "2023-01-15 16:33:21.177030 Epoch 90, Training loss 0.2506512782661019\n",
            "2023-01-15 16:33:25.561329 Epoch 100, Training loss 0.24343881836742354\n",
            "Accuracy train: 0.90\n",
            "Accuracy val: 0.87\n"
          ]
        },
        {
          "output_type": "execute_result",
          "data": {
            "text/plain": [
              "{'train': 0.9002, 'val': 0.8735}"
            ]
          },
          "metadata": {},
          "execution_count": 46
        }
      ]
    },
    {
      "cell_type": "markdown",
      "source": [
        "#배치정규화"
      ],
      "metadata": {
        "id": "o5blN3g2SAm8"
      }
    },
    {
      "cell_type": "code",
      "source": [
        "#배치 정규화\n",
        "class NetBatchNorm(nn.Module):\n",
        "    def __init__(self, n_chans1=32):\n",
        "        super().__init__()\n",
        "        self.n_chans1 = n_chans1\n",
        "        self.conv1 = nn.Conv2d(3, n_chans1, kernel_size=3, padding=1)\n",
        "        self.conv1_batchnorm = nn.BatchNorm2d(num_features=n_chans1)\n",
        "        self.conv2 = nn.Conv2d(n_chans1, n_chans1 // 2, kernel_size=3, \n",
        "                               padding=1)\n",
        "        self.conv2_batchnorm = nn.BatchNorm2d(num_features=n_chans1 // 2)\n",
        "        self.fc1 = nn.Linear(8 * 8 * n_chans1 // 2, 32)\n",
        "        self.fc2 = nn.Linear(32, 2)\n",
        "        \n",
        "    def forward(self, x):\n",
        "        out = self.conv1_batchnorm(self.conv1(x))\n",
        "        out = F.max_pool2d(torch.tanh(out), 2)\n",
        "        out = self.conv2_batchnorm(self.conv2(out))\n",
        "        out = F.max_pool2d(torch.tanh(out), 2)\n",
        "        out = out.view(-1, 8 * 8 * self.n_chans1 // 2)\n",
        "        out = torch.tanh(self.fc1(out))\n",
        "        out = self.fc2(out)\n",
        "        return out\n",
        "\n",
        "model = NetBatchNorm(n_chans1=32).to(device=device)\n",
        "optimizer = optim.SGD(model.parameters(), lr=1e-2)\n",
        "loss_fn = nn.CrossEntropyLoss()\n",
        "\n",
        "training_loop(\n",
        "    n_epochs = 100,\n",
        "    optimizer = optimizer,\n",
        "    model = model,\n",
        "    loss_fn = loss_fn,\n",
        "    train_loader = train_loader,\n",
        ")\n",
        "validate(model, train_loader, val_loader)"
      ],
      "metadata": {
        "colab": {
          "base_uri": "https://localhost:8080/"
        },
        "id": "x4B549MxOxBd",
        "outputId": "9bdfa9aa-7ab4-4861-9611-c4152816b675"
      },
      "execution_count": 49,
      "outputs": [
        {
          "output_type": "stream",
          "name": "stdout",
          "text": [
            "2023-01-15 16:34:33.690262 Epoch 1, Training loss 0.46513135977991066\n",
            "2023-01-15 16:34:37.978986 Epoch 10, Training loss 0.27437000745421003\n",
            "2023-01-15 16:34:42.725215 Epoch 20, Training loss 0.21211157150708945\n",
            "2023-01-15 16:34:47.501203 Epoch 30, Training loss 0.16958282273381378\n",
            "2023-01-15 16:34:52.258947 Epoch 40, Training loss 0.12616684045761253\n",
            "2023-01-15 16:34:57.056191 Epoch 50, Training loss 0.10442510020628476\n",
            "2023-01-15 16:35:01.843023 Epoch 60, Training loss 0.07717468765131227\n",
            "2023-01-15 16:35:06.621582 Epoch 70, Training loss 0.07202043155931932\n",
            "2023-01-15 16:35:11.392156 Epoch 80, Training loss 0.037688881668979955\n",
            "2023-01-15 16:35:16.194987 Epoch 90, Training loss 0.027624804746051123\n",
            "2023-01-15 16:35:20.996607 Epoch 100, Training loss 0.022901629480373137\n",
            "Accuracy train: 0.99\n",
            "Accuracy val: 0.87\n"
          ]
        },
        {
          "output_type": "execute_result",
          "data": {
            "text/plain": [
              "{'train': 0.9861, 'val': 0.874}"
            ]
          },
          "metadata": {},
          "execution_count": 49
        }
      ]
    },
    {
      "cell_type": "markdown",
      "source": [
        "#스킵 커넥션(잔차 연결) : 깊은 신경만 구현 가능"
      ],
      "metadata": {
        "id": "Ul7n2pGuSuzM"
      }
    },
    {
      "cell_type": "code",
      "source": [
        "#기본구조\n",
        "class NetDepth(nn.Module):\n",
        "    def __init__(self, n_chans1=32):\n",
        "        super().__init__()\n",
        "        self.n_chans1 = n_chans1\n",
        "        self.conv1 = nn.Conv2d(3, n_chans1, kernel_size=3, padding=1)\n",
        "        self.conv2 = nn.Conv2d(n_chans1, n_chans1 // 2, kernel_size=3,\n",
        "                               padding=1)\n",
        "        self.conv3 = nn.Conv2d(n_chans1 // 2, n_chans1 // 2,\n",
        "                               kernel_size=3, padding=1)\n",
        "        self.fc1 = nn.Linear(4 * 4 * n_chans1 // 2, 32)\n",
        "        self.fc2 = nn.Linear(32, 2)\n",
        "        \n",
        "    def forward(self, x):\n",
        "        out = F.max_pool2d(torch.relu(self.conv1(x)), 2)\n",
        "        out = F.max_pool2d(torch.relu(self.conv2(out)), 2)\n",
        "        out = F.max_pool2d(torch.relu(self.conv3(out)), 2)\n",
        "        out = out.view(-1, 4 * 4 * self.n_chans1 // 2)\n",
        "        out = torch.relu(self.fc1(out))\n",
        "        out = self.fc2(out)\n",
        "        return out"
      ],
      "metadata": {
        "id": "pmroZXF1RHoe"
      },
      "execution_count": 51,
      "outputs": []
    },
    {
      "cell_type": "code",
      "source": [
        "#잔차 연결\n",
        "class NetRes(nn.Module):\n",
        "    def __init__(self, n_chans1=32):\n",
        "        super().__init__()\n",
        "        self.n_chans1 = n_chans1\n",
        "        self.conv1 = nn.Conv2d(3, n_chans1, kernel_size=3, padding=1)\n",
        "        self.conv2 = nn.Conv2d(n_chans1, n_chans1 // 2, kernel_size=3,\n",
        "                               padding=1)\n",
        "        self.conv3 = nn.Conv2d(n_chans1 // 2, n_chans1 // 2,\n",
        "                               kernel_size=3, padding=1)\n",
        "        self.fc1 = nn.Linear(4 * 4 * n_chans1 // 2, 32)\n",
        "        self.fc2 = nn.Linear(32, 2)\n",
        "        \n",
        "    def forward(self, x):\n",
        "        out = F.max_pool2d(torch.relu(self.conv1(x)), 2)\n",
        "        out = F.max_pool2d(torch.relu(self.conv2(out)), 2)\n",
        "        out1 = out\n",
        "        out = F.max_pool2d(torch.relu(self.conv3(out)) + out1, 2)\n",
        "        out = out.view(-1, 4 * 4 * self.n_chans1 // 2)\n",
        "        out = torch.relu(self.fc1(out))\n",
        "        out = self.fc2(out)\n",
        "        return out"
      ],
      "metadata": {
        "id": "ARpMM36aS0gt"
      },
      "execution_count": 52,
      "outputs": []
    },
    {
      "cell_type": "code",
      "source": [
        "model = NetRes(n_chans1=32).to(device=device)\n",
        "optimizer = optim.SGD(model.parameters(), lr=1e-2)\n",
        "loss_fn = nn.CrossEntropyLoss()\n",
        "\n",
        "training_loop(\n",
        "    n_epochs = 100,\n",
        "    optimizer = optimizer,\n",
        "    model = model,\n",
        "    loss_fn = loss_fn,\n",
        "    train_loader = train_loader,\n",
        ")\n",
        "validate(model, train_loader, val_loader)"
      ],
      "metadata": {
        "colab": {
          "base_uri": "https://localhost:8080/"
        },
        "id": "sTVKrAvtTvWM",
        "outputId": "65c121b9-ccc0-4c2e-fbef-540058df5402"
      },
      "execution_count": 54,
      "outputs": [
        {
          "output_type": "stream",
          "name": "stdout",
          "text": [
            "2023-01-15 16:41:59.567135 Epoch 1, Training loss 0.6603912456779722\n",
            "2023-01-15 16:42:03.601170 Epoch 10, Training loss 0.3280786344200183\n",
            "2023-01-15 16:42:08.029810 Epoch 20, Training loss 0.2838510543487634\n",
            "2023-01-15 16:42:12.457033 Epoch 30, Training loss 0.24976138846509777\n",
            "2023-01-15 16:42:16.915055 Epoch 40, Training loss 0.2180998872514743\n",
            "2023-01-15 16:42:21.370926 Epoch 50, Training loss 0.18559049307161077\n",
            "2023-01-15 16:42:25.866156 Epoch 60, Training loss 0.16346923575089994\n",
            "2023-01-15 16:42:30.276784 Epoch 70, Training loss 0.14236082943381778\n",
            "2023-01-15 16:42:34.712359 Epoch 80, Training loss 0.12075445561367236\n",
            "2023-01-15 16:42:39.102360 Epoch 90, Training loss 0.09114481649913225\n",
            "2023-01-15 16:42:43.508812 Epoch 100, Training loss 0.07577709181851168\n",
            "Accuracy train: 0.98\n",
            "Accuracy val: 0.89\n"
          ]
        },
        {
          "output_type": "execute_result",
          "data": {
            "text/plain": [
              "{'train': 0.9826, 'val': 0.8915}"
            ]
          },
          "metadata": {},
          "execution_count": 54
        }
      ]
    },
    {
      "cell_type": "code",
      "source": [],
      "metadata": {
        "id": "8vtrzYm2Tvms"
      },
      "execution_count": null,
      "outputs": []
    },
    {
      "cell_type": "markdown",
      "source": [
        "#깊은 신경망 , 블럭 구현"
      ],
      "metadata": {
        "id": "2HCYZmYsW1NQ"
      }
    },
    {
      "cell_type": "code",
      "source": [
        "class ResBlock(nn.Module):\n",
        "    def __init__(self, n_chans):\n",
        "        super(ResBlock, self).__init__()\n",
        "        self.conv = nn.Conv2d(n_chans, n_chans, kernel_size=3,\n",
        "                              padding=1, bias=False)  # <1>\n",
        "        self.batch_norm = nn.BatchNorm2d(num_features=n_chans)\n",
        "        torch.nn.init.kaiming_normal_(self.conv.weight,\n",
        "                                      nonlinearity='relu')  # <2>\n",
        "        torch.nn.init.constant_(self.batch_norm.weight, 0.5)\n",
        "        torch.nn.init.zeros_(self.batch_norm.bias)\n",
        "\n",
        "    def forward(self, x):\n",
        "        out = self.conv(x)\n",
        "        out = self.batch_norm(out)\n",
        "        out = torch.relu(out)\n",
        "        return out + x\n",
        "\n",
        "class NetResDeep(nn.Module):\n",
        "    def __init__(self, n_chans1=32, n_blocks=10):\n",
        "        super().__init__()\n",
        "        self.n_chans1 = n_chans1\n",
        "        self.conv1 = nn.Conv2d(3, n_chans1, kernel_size=3, padding=1)\n",
        "        self.resblocks = nn.Sequential(\n",
        "            *(n_blocks * [ResBlock(n_chans=n_chans1)]))\n",
        "        self.fc1 = nn.Linear(8 * 8 * n_chans1, 32)\n",
        "        self.fc2 = nn.Linear(32, 2)\n",
        "        \n",
        "    def forward(self, x):\n",
        "        out = F.max_pool2d(torch.relu(self.conv1(x)), 2)\n",
        "        out = self.resblocks(out)\n",
        "        out = F.max_pool2d(out, 2)\n",
        "        out = out.view(-1, 8 * 8 * self.n_chans1)\n",
        "        out = torch.relu(self.fc1(out))\n",
        "        out = self.fc2(out)\n",
        "        return out\n",
        "  \n",
        "model = NetResDeep(n_chans1=32, n_blocks=100).to(device=device)\n",
        "optimizer = optim.SGD(model.parameters(), lr=3e-3)\n",
        "loss_fn = nn.CrossEntropyLoss()\n",
        "\n",
        "training_loop(\n",
        "    n_epochs = 100,\n",
        "    optimizer = optimizer,\n",
        "    model = model,\n",
        "    loss_fn = loss_fn,\n",
        "    train_loader = train_loader,\n",
        ")\n",
        "validate(model, train_loader, val_loader)"
      ],
      "metadata": {
        "colab": {
          "base_uri": "https://localhost:8080/"
        },
        "id": "KjbJeRKlW3dO",
        "outputId": "a04d63f6-7b4d-419f-ad07-54992fc4ddb9"
      },
      "execution_count": 55,
      "outputs": [
        {
          "output_type": "stream",
          "name": "stdout",
          "text": [
            "2023-01-15 16:56:01.464837 Epoch 1, Training loss 1.119349929177837\n",
            "2023-01-15 16:57:24.111733 Epoch 10, Training loss 0.3065776473777309\n",
            "2023-01-15 16:58:54.764622 Epoch 20, Training loss 0.23422263989782638\n",
            "2023-01-15 17:00:25.384899 Epoch 30, Training loss 0.18428095838256703\n",
            "2023-01-15 17:01:55.820166 Epoch 40, Training loss 0.13287869634427082\n",
            "2023-01-15 17:03:26.256551 Epoch 50, Training loss 0.1281071768177875\n",
            "2023-01-15 17:04:56.981161 Epoch 60, Training loss 0.10727429583929717\n",
            "2023-01-15 17:06:28.044770 Epoch 70, Training loss 0.07641117917492417\n",
            "2023-01-15 17:07:58.907472 Epoch 80, Training loss 0.09644814963811403\n",
            "2023-01-15 17:09:29.519263 Epoch 90, Training loss 0.0756190644616445\n",
            "2023-01-15 17:11:00.020505 Epoch 100, Training loss 0.06209423927780075\n",
            "Accuracy train: 0.98\n",
            "Accuracy val: 0.86\n"
          ]
        },
        {
          "output_type": "execute_result",
          "data": {
            "text/plain": [
              "{'train': 0.9772, 'val': 0.864}"
            ]
          },
          "metadata": {},
          "execution_count": 55
        }
      ]
    },
    {
      "cell_type": "code",
      "source": [
        "a = torch.tensor([1,2,3])\n",
        "b = torch.tensor([4,5,6])\n",
        "c = a + b\n",
        "c"
      ],
      "metadata": {
        "colab": {
          "base_uri": "https://localhost:8080/"
        },
        "id": "zBKTT2ZjW92c",
        "outputId": "4aebd285-65b7-4c8b-af23-8169401af2fe"
      },
      "execution_count": 56,
      "outputs": [
        {
          "output_type": "execute_result",
          "data": {
            "text/plain": [
              "tensor([5, 7, 9])"
            ]
          },
          "metadata": {},
          "execution_count": 56
        }
      ]
    },
    {
      "cell_type": "code",
      "source": [],
      "metadata": {
        "id": "2UO_vrDXbuhb"
      },
      "execution_count": null,
      "outputs": []
    }
  ]
}