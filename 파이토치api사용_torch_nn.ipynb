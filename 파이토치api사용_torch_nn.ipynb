{
  "nbformat": 4,
  "nbformat_minor": 0,
  "metadata": {
    "colab": {
      "provenance": [],
      "authorship_tag": "ABX9TyOCIpd3P4Iu4VLw+ZoKdQzm",
      "include_colab_link": true
    },
    "kernelspec": {
      "name": "python3",
      "display_name": "Python 3"
    },
    "language_info": {
      "name": "python"
    },
    "accelerator": "GPU",
    "gpuClass": "standard"
  },
  "cells": [
    {
      "cell_type": "markdown",
      "metadata": {
        "id": "view-in-github",
        "colab_type": "text"
      },
      "source": [
        "<a href=\"https://colab.research.google.com/github/mindang/pytorch-master/blob/main/%ED%8C%8C%EC%9D%B4%ED%86%A0%EC%B9%98api%EC%82%AC%EC%9A%A9_torch_nn.ipynb\" target=\"_parent\"><img src=\"https://colab.research.google.com/assets/colab-badge.svg\" alt=\"Open In Colab\"/></a>"
      ]
    },
    {
      "cell_type": "code",
      "source": [
        "#!는 한줄씩 실행되도록 !가 없으면 오류 발생\n",
        "!pip3 install torch\n",
        "!pip3 install torchvision"
      ],
      "metadata": {
        "id": "p-0NnVqV5IkE"
      },
      "execution_count": null,
      "outputs": []
    },
    {
      "cell_type": "code",
      "execution_count": 2,
      "metadata": {
        "id": "U9PpdR7s4i3w"
      },
      "outputs": [],
      "source": [
        "import torch\n",
        "from torchvision import models\n",
        "import numpy as np\n",
        "from PIL import Image\n",
        "from torchvision import transforms\n",
        "import imageio\n",
        "import pandas as pd\n",
        "from matplotlib import pyplot as plt"
      ]
    },
    {
      "cell_type": "code",
      "source": [
        "import torch.nn as nn\n",
        "import torch.optim as optim\n",
        "\n",
        "linear_model = nn.Linear(1,1)"
      ],
      "metadata": {
        "id": "x-INMoRaicqD"
      },
      "execution_count": 35,
      "outputs": []
    },
    {
      "cell_type": "code",
      "source": [
        "#w 와 b는 랜덤 초기화\n",
        "linear_model.weight , linear_model.bias"
      ],
      "metadata": {
        "colab": {
          "base_uri": "https://localhost:8080/"
        },
        "id": "RcNJc4yKikDb",
        "outputId": "2d22adb9-4851-42f2-8e82-50d2f33a5878"
      },
      "execution_count": 32,
      "outputs": [
        {
          "output_type": "execute_result",
          "data": {
            "text/plain": [
              "(Parameter containing:\n",
              " tensor([[-0.3544]], requires_grad=True), Parameter containing:\n",
              " tensor([0.4152], requires_grad=True))"
            ]
          },
          "metadata": {},
          "execution_count": 32
        }
      ]
    },
    {
      "cell_type": "code",
      "source": [
        "x = torch.ones(1).unsqueeze(1)\n",
        "linear_model(x)"
      ],
      "metadata": {
        "colab": {
          "base_uri": "https://localhost:8080/"
        },
        "id": "_p2C0Rbw9aHC",
        "outputId": "9ab656d0-7a54-4386-8bbd-af1a945d9040"
      },
      "execution_count": 33,
      "outputs": [
        {
          "output_type": "execute_result",
          "data": {
            "text/plain": [
              "tensor([[0.0607]], grad_fn=<AddmmBackward0>)"
            ]
          },
          "metadata": {},
          "execution_count": 33
        }
      ]
    },
    {
      "cell_type": "markdown",
      "source": [
        "#배치를 활용한 Linear Model"
      ],
      "metadata": {
        "id": "CJmQkNsA_BIj"
      }
    },
    {
      "cell_type": "code",
      "source": [
        "t_c = [0.5,  14.0, 15.0, 28.0, 11.0,  8.0,  3.0, -4.0,  6.0, 13.0, 21.0]\n",
        "t_u = [35.7, 55.9, 58.2, 81.9, 56.3, 48.9, 33.9, 21.8, 48.4, 60.4, 68.4]\n",
        "t_c = torch.tensor(t_c).unsqueeze(1) # <1>\n",
        "t_u = torch.tensor(t_u).unsqueeze(1) # <1>\n",
        "\n",
        "t_u.shape"
      ],
      "metadata": {
        "id": "esswfaXJZGh3",
        "colab": {
          "base_uri": "https://localhost:8080/"
        },
        "outputId": "aadd2a02-4404-489f-ba3b-f56f7650c5b3"
      },
      "execution_count": 63,
      "outputs": [
        {
          "output_type": "execute_result",
          "data": {
            "text/plain": [
              "torch.Size([11, 1])"
            ]
          },
          "metadata": {},
          "execution_count": 63
        }
      ]
    },
    {
      "cell_type": "code",
      "source": [
        "n_samples = t_u.shape[0]\n",
        "n_val = int(0.2 * n_samples)\n",
        "\n",
        "shuffled_indices = torch.randperm(n_samples)\n",
        "\n",
        "train_indices = shuffled_indices[:-n_val]\n",
        "val_indices = shuffled_indices[-n_val:]\n",
        "\n",
        "train_indices, val_indices"
      ],
      "metadata": {
        "colab": {
          "base_uri": "https://localhost:8080/"
        },
        "id": "uvsp1kiVHjvD",
        "outputId": "b82f5ac2-3509-4689-8250-2c21fe520ae7"
      },
      "execution_count": 64,
      "outputs": [
        {
          "output_type": "execute_result",
          "data": {
            "text/plain": [
              "(tensor([0, 3, 6, 1, 7, 2, 4, 8, 9]), tensor([ 5, 10]))"
            ]
          },
          "metadata": {},
          "execution_count": 64
        }
      ]
    },
    {
      "cell_type": "code",
      "source": [
        "t_u_train = t_u[train_indices]\n",
        "t_c_train = t_c[train_indices]\n",
        "\n",
        "t_u_val = t_u[val_indices]\n",
        "t_c_val = t_c[val_indices]\n",
        "\n",
        "t_un_train = 0.1 * t_u_train\n",
        "t_un_val = 0.1 * t_u_val"
      ],
      "metadata": {
        "id": "k_AS00xnHpf2"
      },
      "execution_count": 65,
      "outputs": []
    },
    {
      "cell_type": "code",
      "source": [
        "#훈련 루프 함수\n",
        "def training_loop(n_epochs, optimizer , model, loss_fn, x_train, y_train, x_val, y_val):\n",
        "  for epoch in range(1,n_epochs+1):\n",
        "    out_train = model(x_train)\n",
        "    loss_train = loss_fn(out_train, y_train)\n",
        "\n",
        "    with torch.no_grad():\n",
        "      out_val = model(x_val)\n",
        "      loss_val = loss_fn(out_val, y_val)\n",
        "      assert loss_val.requires_grad==False,\"loss_val의 연산그래프가 추적됨\"\n",
        "\n",
        "    optimizer.zero_grad()\n",
        "    loss_train.backward()\n",
        "    optimizer.step()\n",
        "\n",
        "    if epoch == 1 or epoch % 1000 == 0:\n",
        "      print(f\"Epoch {epoch}, Training loss {loss_train.item():.4f},\"\n",
        "                    f\" Validation loss {loss_val.item():.4f}\")\n",
        "\n",
        "def loss_fn(t_p, t_c):\n",
        "    squared_diffs = (t_p - t_c)**2\n",
        "    return squared_diffs.mean()"
      ],
      "metadata": {
        "id": "m_eCvXb5BAs3"
      },
      "execution_count": 74,
      "outputs": []
    },
    {
      "cell_type": "code",
      "source": [
        "linear_model = nn.Linear(1, 1)\n",
        "optimizer = optim.SGD(linear_model.parameters(), lr=1e-2)\n",
        "\n",
        "print(\"학습 전 파라미터 : \",float(linear_model.weight) , float(linear_model.bias))\n",
        "training_loop(\n",
        "    n_epochs = 3000, \n",
        "    optimizer = optimizer,\n",
        "    model = linear_model,\n",
        "    loss_fn = nn.MSELoss(),\n",
        "    #loss_fn = loss_fn,\n",
        "    x_train = t_un_train,\n",
        "    y_train = t_c_train, \n",
        "    x_val = t_un_val,\n",
        "    y_val = t_c_val)\n",
        "\n",
        "print(\"학습 후 파라미터 : \",end=\"\")\n",
        "print(float(linear_model.weight),float(linear_model.bias))"
      ],
      "metadata": {
        "colab": {
          "base_uri": "https://localhost:8080/"
        },
        "id": "p40ExviEBzEN",
        "outputId": "e7dc5126-2d36-4a5f-b544-289d705628d4"
      },
      "execution_count": 75,
      "outputs": [
        {
          "output_type": "stream",
          "name": "stdout",
          "text": [
            "학습 전 파라미터 :  -0.1433577537536621 -0.5271774530410767\n",
            "Epoch 1, Training loss 202.7477, Validation loss 295.8791\n",
            "Epoch 1000, Training loss 3.7307, Validation loss 3.6399\n",
            "Epoch 2000, Training loss 3.1655, Validation loss 2.3456\n",
            "Epoch 3000, Training loss 3.1539, Validation loss 2.1829\n",
            "학습 후 파라미터 : 5.239745616912842 -16.72836685180664\n"
          ]
        }
      ]
    },
    {
      "cell_type": "code",
      "source": [],
      "metadata": {
        "id": "3upCJ_pZHqP4"
      },
      "execution_count": 67,
      "outputs": []
    },
    {
      "cell_type": "markdown",
      "source": [
        "#신경망을 이용한 선형문제 해결\n"
      ],
      "metadata": {
        "id": "qsNkzBr7MGtj"
      }
    },
    {
      "cell_type": "code",
      "source": [
        "seq_model = nn.Sequential(\n",
        "    nn.Linear(1,13),\n",
        "    nn.Tanh(),\n",
        "    nn.Linear(13,1)\n",
        ")\n",
        "seq_model"
      ],
      "metadata": {
        "colab": {
          "base_uri": "https://localhost:8080/"
        },
        "id": "X7U-U72FMJf6",
        "outputId": "a9571d84-85dd-4b2f-bf36-438bd6a1cbf7"
      },
      "execution_count": 77,
      "outputs": [
        {
          "output_type": "execute_result",
          "data": {
            "text/plain": [
              "Sequential(\n",
              "  (0): Linear(in_features=1, out_features=13, bias=True)\n",
              "  (1): Tanh()\n",
              "  (2): Linear(in_features=13, out_features=1, bias=True)\n",
              ")"
            ]
          },
          "metadata": {},
          "execution_count": 77
        }
      ]
    },
    {
      "cell_type": "code",
      "source": [
        "[param.shape for param in seq_model.parameters()]"
      ],
      "metadata": {
        "colab": {
          "base_uri": "https://localhost:8080/"
        },
        "id": "qAY47DqfQvLJ",
        "outputId": "88909878-7e77-41d7-e631-1b4e3fc5cf9b"
      },
      "execution_count": 78,
      "outputs": [
        {
          "output_type": "execute_result",
          "data": {
            "text/plain": [
              "[torch.Size([13, 1]), torch.Size([13]), torch.Size([1, 13]), torch.Size([1])]"
            ]
          },
          "metadata": {},
          "execution_count": 78
        }
      ]
    },
    {
      "cell_type": "code",
      "source": [
        "#이름 붙이기\n",
        "from collections import OrderedDict\n",
        "\n",
        "seq_model = nn.Sequential(OrderedDict([\n",
        "    ('hidden_linear', nn.Linear(1, 8)),\n",
        "    ('hidden_activation', nn.Tanh()),\n",
        "    ('output_linear', nn.Linear(8, 1))\n",
        "]))\n",
        "\n",
        "seq_model"
      ],
      "metadata": {
        "colab": {
          "base_uri": "https://localhost:8080/"
        },
        "id": "lfVEQLdKRLGT",
        "outputId": "129047f0-431c-4cf8-b943-deafdd2a8f43"
      },
      "execution_count": 81,
      "outputs": [
        {
          "output_type": "execute_result",
          "data": {
            "text/plain": [
              "Sequential(\n",
              "  (hidden_linear): Linear(in_features=1, out_features=8, bias=True)\n",
              "  (hidden_activation): Tanh()\n",
              "  (output_linear): Linear(in_features=8, out_features=1, bias=True)\n",
              ")"
            ]
          },
          "metadata": {},
          "execution_count": 81
        }
      ]
    },
    {
      "cell_type": "code",
      "source": [
        "seq_model.hidden_linear.weight , seq_model.hidden_linear.bias"
      ],
      "metadata": {
        "colab": {
          "base_uri": "https://localhost:8080/"
        },
        "id": "9Ptxwde5Rmlf",
        "outputId": "e78ea94a-4121-4c04-9d49-d64deaa91898"
      },
      "execution_count": 83,
      "outputs": [
        {
          "output_type": "execute_result",
          "data": {
            "text/plain": [
              "(Parameter containing:\n",
              " tensor([[ 0.3643],\n",
              "         [-0.8004],\n",
              "         [-0.7186],\n",
              "         [-0.1209],\n",
              "         [-0.5641],\n",
              "         [-0.9502],\n",
              "         [-0.0773],\n",
              "         [ 0.8499]], requires_grad=True), Parameter containing:\n",
              " tensor([ 0.2072,  0.9271, -0.0058,  0.5755, -0.5439, -0.0055,  0.0465, -0.0409],\n",
              "        requires_grad=True))"
            ]
          },
          "metadata": {},
          "execution_count": 83
        }
      ]
    },
    {
      "cell_type": "code",
      "source": [
        "optimizer = optim.SGD(seq_model.parameters(), lr=1e-3)\n",
        "\n",
        "print(\"학습 전 파라미터 : \", list(seq_model.parameters()))\n",
        "training_loop(\n",
        "    n_epochs = 5000, \n",
        "    optimizer = optimizer,\n",
        "    model = seq_model,\n",
        "    loss_fn = nn.MSELoss(),\n",
        "    #loss_fn = loss_fn,\n",
        "    x_train = t_un_train,\n",
        "    y_train = t_c_train, \n",
        "    x_val = t_un_val,\n",
        "    y_val = t_c_val)\n",
        "\n",
        "print(\"학습 후 파라미터 : \", list(seq_model.parameters()))"
      ],
      "metadata": {
        "colab": {
          "base_uri": "https://localhost:8080/"
        },
        "id": "BYHJ8399QVma",
        "outputId": "90891873-2184-4411-d6b3-ea59ce955a12"
      },
      "execution_count": 94,
      "outputs": [
        {
          "output_type": "stream",
          "name": "stdout",
          "text": [
            "학습 전 파라미터 :  [Parameter containing:\n",
            "tensor([[ 0.3643],\n",
            "        [-0.8004],\n",
            "        [-0.7186],\n",
            "        [-0.1209],\n",
            "        [-0.5641],\n",
            "        [-0.9502],\n",
            "        [-0.0773],\n",
            "        [ 0.8499]], requires_grad=True), Parameter containing:\n",
            "tensor([ 0.2072,  0.9271, -0.0058,  0.5755, -0.5439, -0.0055,  0.0465, -0.0409],\n",
            "       requires_grad=True), Parameter containing:\n",
            "tensor([[ 0.0823, -0.0135,  0.1200,  0.1885,  0.2645, -0.3081, -0.2633,  0.2702]],\n",
            "       requires_grad=True), Parameter containing:\n",
            "tensor([0.1064], requires_grad=True)]\n",
            "Epoch 1, Training loss 164.1225, Validation loss 239.1159\n",
            "Epoch 1000, Training loss 6.8200, Validation loss 3.8877\n",
            "Epoch 2000, Training loss 4.3771, Validation loss 0.7934\n",
            "Epoch 3000, Training loss 2.7529, Validation loss 0.1019\n",
            "Epoch 4000, Training loss 2.4235, Validation loss 0.0393\n",
            "Epoch 5000, Training loss 2.3637, Validation loss 0.0423\n",
            "학습 후 파라미터 :  [Parameter containing:\n",
            "tensor([[ 0.3503],\n",
            "        [-0.6164],\n",
            "        [-0.4308],\n",
            "        [ 0.5438],\n",
            "        [-0.4185],\n",
            "        [-0.5579],\n",
            "        [-0.5079],\n",
            "        [ 0.3006]], requires_grad=True), Parameter containing:\n",
            "tensor([-1.9342,  4.1820,  0.8392, -0.0461, -0.3054,  0.1280,  3.1910, -1.2941],\n",
            "       requires_grad=True), Parameter containing:\n",
            "tensor([[ 3.6041, -5.2022, -3.1258,  3.1724, -2.6750, -3.1398, -4.3428,  3.4278]],\n",
            "       requires_grad=True), Parameter containing:\n",
            "tensor([2.8886], requires_grad=True)]\n"
          ]
        }
      ]
    },
    {
      "cell_type": "code",
      "source": [
        "from matplotlib import pyplot as plt\n",
        "\n",
        "t_range = torch.arange(20., 90.).unsqueeze(1)\n",
        "\n",
        "fig = plt.figure(dpi=300)\n",
        "plt.xlabel(\"Fahrenheit\")\n",
        "plt.ylabel(\"Celsius\")\n",
        "plt.plot(t_u.numpy(), t_c.numpy(), 'o')\n",
        "plt.plot(t_range.numpy(), seq_model(0.1 * t_range).detach().numpy(), 'c-')\n",
        "plt.plot(t_u.numpy(), seq_model(0.1 * t_u).detach().numpy(), 'kx')"
      ],
      "metadata": {
        "colab": {
          "base_uri": "https://localhost:8080/",
          "height": 1000
        },
        "id": "vDK_PXhzS-ha",
        "outputId": "384bd767-de6d-4c09-c164-d534cada1f40"
      },
      "execution_count": 96,
      "outputs": [
        {
          "output_type": "execute_result",
          "data": {
            "text/plain": [
              "[<matplotlib.lines.Line2D at 0x7f49eb8738e0>]"
            ]
          },
          "metadata": {},
          "execution_count": 96
        },
        {
          "output_type": "display_data",
          "data": {
            "text/plain": [
              "<Figure size 1800x1200 with 1 Axes>"
            ],
            "image/png": "[encoded data removed]"
          },
          "metadata": {
            "needs_background": "light"
          }
        }
      ]
    },
    {
      "cell_type": "code",
      "source": [],
      "metadata": {
        "id": "vatS7cfsTySl"
      },
      "execution_count": null,
      "outputs": []
    }
  ]
}